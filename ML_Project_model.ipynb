{
 "cells": [
  {
   "cell_type": "code",
   "execution_count": 1,
   "metadata": {},
   "outputs": [
    {
     "name": "stdout",
     "output_type": "stream",
     "text": [
      "Imported\n"
     ]
    }
   ],
   "source": [
    "from keras.models import Sequential\n",
    "from keras.layers import Dense, Dropout, Conv2D, MaxPool2D, Flatten, Activation, LeakyReLU, BatchNormalization\n",
    "from keras.utils import np_utils\n",
    "from keras.optimizers import SGD\n",
    "import numpy as np\n",
    "import tensorflow as tf\n",
    "import matplotlib.pyplot as plt\n",
    "print(\"Imported\")\n",
    "base_path = \"C:\\\\Users\\\\06man\\\\Documents\\\\ml_data\\\\\"\n"
   ]
  },
  {
   "cell_type": "code",
   "execution_count": 2,
   "metadata": {},
   "outputs": [
    {
     "name": "stdout",
     "output_type": "stream",
     "text": [
      "START123\n"
     ]
    }
   ],
   "source": [
    "print(\"START123\")\n",
    "config = tf.compat.v1.ConfigProto(gpu_options=tf.compat.v1.GPUOptions(per_process_gpu_memory_fraction=0.3))\n",
    "config.gpu_options.allow_growth = True\n",
    "config.gpu_options.per_process_gpu_memory_fraction = 0.3\n",
    "session = tf.compat.v1.Session(config=config)\n",
    "tf.compat.v1.keras.backend.set_session(session)"
   ]
  },
  {
   "cell_type": "code",
   "execution_count": 53,
   "metadata": {},
   "outputs": [
    {
     "name": "stdout",
     "output_type": "stream",
     "text": [
      "Model: \"sequential_12\"\n",
      "_________________________________________________________________\n",
      "Layer (type)                 Output Shape              Param #   \n",
      "=================================================================\n",
      "conv2d_36 (Conv2D)           (None, 223, 223, 32)      416       \n",
      "_________________________________________________________________\n",
      "batch_normalization_36 (Batc (None, 223, 223, 32)      128       \n",
      "_________________________________________________________________\n",
      "leaky_re_lu_48 (LeakyReLU)   (None, 223, 223, 32)      0         \n",
      "_________________________________________________________________\n",
      "max_pooling2d_36 (MaxPooling (None, 111, 111, 32)      0         \n",
      "_________________________________________________________________\n",
      "conv2d_37 (Conv2D)           (None, 110, 110, 64)      8256      \n",
      "_________________________________________________________________\n",
      "batch_normalization_37 (Batc (None, 110, 110, 64)      256       \n",
      "_________________________________________________________________\n",
      "leaky_re_lu_49 (LeakyReLU)   (None, 110, 110, 64)      0         \n",
      "_________________________________________________________________\n",
      "max_pooling2d_37 (MaxPooling (None, 55, 55, 64)        0         \n",
      "_________________________________________________________________\n",
      "conv2d_38 (Conv2D)           (None, 54, 54, 128)       32896     \n",
      "_________________________________________________________________\n",
      "batch_normalization_38 (Batc (None, 54, 54, 128)       512       \n",
      "_________________________________________________________________\n",
      "leaky_re_lu_50 (LeakyReLU)   (None, 54, 54, 128)       0         \n",
      "_________________________________________________________________\n",
      "max_pooling2d_38 (MaxPooling (None, 27, 27, 128)       0         \n",
      "_________________________________________________________________\n",
      "flatten_12 (Flatten)         (None, 93312)             0         \n",
      "_________________________________________________________________\n",
      "dense_24 (Dense)             (None, 32)                2986016   \n",
      "_________________________________________________________________\n",
      "leaky_re_lu_51 (LeakyReLU)   (None, 32)                0         \n",
      "_________________________________________________________________\n",
      "dropout_12 (Dropout)         (None, 32)                0         \n",
      "_________________________________________________________________\n",
      "dense_25 (Dense)             (None, 5)                 165       \n",
      "_________________________________________________________________\n",
      "activation_12 (Activation)   (None, 5)                 0         \n",
      "=================================================================\n",
      "Total params: 3,028,645\n",
      "Trainable params: 3,028,197\n",
      "Non-trainable params: 448\n",
      "_________________________________________________________________\n"
     ]
    }
   ],
   "source": [
    "# Model\n",
    "model = Sequential()\n",
    "model.add(Conv2D(filters=16, kernel_size=(2,2), input_shape=(224, 224, 3)))\n",
    "model.add(BatchNormalization())\n",
    "model.add(LeakyReLU(0.1))\n",
    "model.add(MaxPool2D(pool_size=(2, 2)))\n",
    "\n",
    "model.add(Conv2D(filters=32, kernel_size=(2,2)))\n",
    "model.add(BatchNormalization())\n",
    "model.add(LeakyReLU(0.1))\n",
    "model.add(MaxPool2D(pool_size=(2, 2)))\n",
    "\n",
    "model.add(Conv2D(filters=64, kernel_size=(2,2)))\n",
    "model.add(BatchNormalization())\n",
    "model.add(LeakyReLU(0.1))\n",
    "model.add(MaxPool2D(pool_size=(2, 2)))\n",
    "\n",
    "#model.add(Conv2D(filters=64, kernel_size=(3, 3)))\n",
    "#model.add(Activation('relu'))\n",
    "#model.add(MaxPool2D(pool_size=(2, 2)))\n",
    "\n",
    "model.add(Flatten())\n",
    "\n",
    "model.add(Dense(32))\n",
    "model.add(LeakyReLU(0.1))\n",
    "model.add(Dropout(0.4))\n",
    "\n",
    "#model.add(Dense(25))\n",
    "#model.add(LeakyReLU(0.1))\n",
    "#model.add(Dropout(0.4))\n",
    "\n",
    "model.add(Dense(5))\n",
    "model.add(Activation('softmax'))\n",
    "\n",
    "epochs = 50\n",
    "learning_rate = 0.005\n",
    "decay_rate = learning_rate / epochs\n",
    "momentum = 0.0\n",
    "sgd = SGD(lr=learning_rate, momentum=momentum, decay=decay_rate, nesterov=False)\n",
    "adam = tf.keras.optimizers.Adam(learning_rate=0.0001)\n",
    "model.compile(loss='categorical_crossentropy', optimizer=sgd, metrics=['accuracy'])\n",
    "model.summary()"
   ]
  },
  {
   "cell_type": "code",
   "execution_count": 14,
   "metadata": {},
   "outputs": [
    {
     "name": "stdout",
     "output_type": "stream",
     "text": [
      "LOADED\n",
      "(2000, 224, 224, 3)\n",
      "(2000, 5)\n"
     ]
    }
   ],
   "source": [
    "#data\n",
    "#x_train = np.load(f\"{base_path}x_train.npy\")\n",
    "#y_train = np.load(f\"{base_path}y_train.npy\")\n",
    "x_train = np.load(f\"{base_path}x_train.npy\")\n",
    "y_train = np.load(f\"{base_path}y_train.npy\")\n",
    "\n",
    "print(\"LOADED\")\n",
    "print(x_train.shape)\n",
    "print(y_train.shape)\n"
   ]
  },
  {
   "cell_type": "code",
   "execution_count": 55,
   "metadata": {},
   "outputs": [
    {
     "name": "stdout",
     "output_type": "stream",
     "text": [
      "Epoch 1/50\n",
      "113/113 [==============================] - 6s 53ms/step - loss: 2.4358 - accuracy: 0.4656 - val_loss: 1.4105 - val_accuracy: 0.4050\n",
      "Epoch 2/50\n",
      "113/113 [==============================] - 6s 50ms/step - loss: 1.4504 - accuracy: 0.5411 - val_loss: 1.8206 - val_accuracy: 0.1700\n",
      "Epoch 3/50\n",
      "113/113 [==============================] - 6s 50ms/step - loss: 1.4523 - accuracy: 0.5661 - val_loss: 1.3135 - val_accuracy: 0.5700\n",
      "Epoch 4/50\n",
      "113/113 [==============================] - 6s 49ms/step - loss: 1.0901 - accuracy: 0.6283 - val_loss: 1.1692 - val_accuracy: 0.6100\n",
      "Epoch 5/50\n",
      "113/113 [==============================] - 6s 50ms/step - loss: 1.0516 - accuracy: 0.6378 - val_loss: 1.1646 - val_accuracy: 0.5700\n",
      "Epoch 6/50\n",
      "113/113 [==============================] - 6s 50ms/step - loss: 0.9584 - accuracy: 0.6656 - val_loss: 1.2941 - val_accuracy: 0.5550\n",
      "Epoch 7/50\n",
      "113/113 [==============================] - 6s 50ms/step - loss: 0.8589 - accuracy: 0.6844 - val_loss: 1.1412 - val_accuracy: 0.5800\n",
      "Epoch 8/50\n",
      "113/113 [==============================] - 6s 49ms/step - loss: 0.8649 - accuracy: 0.7106 - val_loss: 1.5040 - val_accuracy: 0.5900\n",
      "Epoch 9/50\n",
      "113/113 [==============================] - 6s 51ms/step - loss: 0.8098 - accuracy: 0.7211 - val_loss: 1.2069 - val_accuracy: 0.5900\n",
      "Epoch 10/50\n",
      "113/113 [==============================] - 6s 50ms/step - loss: 0.7958 - accuracy: 0.7261 - val_loss: 1.2480 - val_accuracy: 0.6150\n",
      "Epoch 11/50\n",
      "113/113 [==============================] - 6s 50ms/step - loss: 0.6150 - accuracy: 0.7817 - val_loss: 1.5296 - val_accuracy: 0.5800\n",
      "Epoch 12/50\n",
      "113/113 [==============================] - 6s 50ms/step - loss: 0.5561 - accuracy: 0.7933 - val_loss: 1.8233 - val_accuracy: 0.6050\n",
      "Epoch 13/50\n",
      "113/113 [==============================] - 6s 50ms/step - loss: 0.4654 - accuracy: 0.8267 - val_loss: 4.0367 - val_accuracy: 0.3850\n",
      "Epoch 14/50\n",
      "113/113 [==============================] - 6s 50ms/step - loss: 0.5056 - accuracy: 0.8206 - val_loss: 1.3699 - val_accuracy: 0.5650\n",
      "Epoch 15/50\n",
      "113/113 [==============================] - 6s 50ms/step - loss: 0.3545 - accuracy: 0.8722 - val_loss: 1.7217 - val_accuracy: 0.5750\n",
      "Epoch 16/50\n",
      "113/113 [==============================] - 6s 50ms/step - loss: 0.3087 - accuracy: 0.8961 - val_loss: 1.7117 - val_accuracy: 0.6050\n",
      "Epoch 17/50\n",
      "113/113 [==============================] - 6s 50ms/step - loss: 0.3157 - accuracy: 0.8894 - val_loss: 1.7717 - val_accuracy: 0.5850\n",
      "Epoch 18/50\n",
      "113/113 [==============================] - 6s 50ms/step - loss: 0.2671 - accuracy: 0.9078 - val_loss: 1.6181 - val_accuracy: 0.5900\n",
      "Epoch 19/50\n",
      "113/113 [==============================] - 6s 50ms/step - loss: 0.2017 - accuracy: 0.9294 - val_loss: 1.9880 - val_accuracy: 0.6100\n",
      "Epoch 20/50\n",
      "113/113 [==============================] - 6s 50ms/step - loss: 0.1857 - accuracy: 0.9294 - val_loss: 1.9025 - val_accuracy: 0.5900\n",
      "Epoch 21/50\n",
      "113/113 [==============================] - 6s 50ms/step - loss: 0.1316 - accuracy: 0.9528 - val_loss: 4.3615 - val_accuracy: 0.5950\n",
      "Epoch 22/50\n",
      "113/113 [==============================] - 6s 50ms/step - loss: 0.2033 - accuracy: 0.9317 - val_loss: 1.6801 - val_accuracy: 0.6250\n",
      "Epoch 23/50\n",
      "113/113 [==============================] - 6s 50ms/step - loss: 0.1357 - accuracy: 0.9467 - val_loss: 1.6523 - val_accuracy: 0.5800\n",
      "Epoch 24/50\n",
      "113/113 [==============================] - 6s 50ms/step - loss: 0.1782 - accuracy: 0.9450 - val_loss: 2.3600 - val_accuracy: 0.5950\n",
      "Epoch 25/50\n",
      "113/113 [==============================] - 6s 50ms/step - loss: 0.0946 - accuracy: 0.9694 - val_loss: 2.3709 - val_accuracy: 0.5950\n",
      "Epoch 26/50\n",
      "113/113 [==============================] - 6s 50ms/step - loss: 0.0644 - accuracy: 0.9811 - val_loss: 2.7834 - val_accuracy: 0.5900\n",
      "Epoch 27/50\n",
      "113/113 [==============================] - 6s 50ms/step - loss: 0.0656 - accuracy: 0.9800 - val_loss: 2.1697 - val_accuracy: 0.6050\n",
      "Epoch 28/50\n",
      "113/113 [==============================] - 6s 50ms/step - loss: 0.0626 - accuracy: 0.9811 - val_loss: 2.4937 - val_accuracy: 0.5900\n",
      "Epoch 29/50\n",
      "113/113 [==============================] - 6s 50ms/step - loss: 0.0596 - accuracy: 0.9811 - val_loss: 2.8635 - val_accuracy: 0.5950\n",
      "Epoch 30/50\n",
      "113/113 [==============================] - 6s 50ms/step - loss: 0.0478 - accuracy: 0.9828 - val_loss: 2.2056 - val_accuracy: 0.5950\n",
      "Epoch 31/50\n",
      "113/113 [==============================] - 6s 50ms/step - loss: 0.0463 - accuracy: 0.9839 - val_loss: 2.1808 - val_accuracy: 0.5750\n",
      "Epoch 32/50\n",
      "113/113 [==============================] - 6s 50ms/step - loss: 0.0552 - accuracy: 0.9844 - val_loss: 1.8105 - val_accuracy: 0.5800\n",
      "Epoch 33/50\n",
      "113/113 [==============================] - 6s 50ms/step - loss: 0.0383 - accuracy: 0.9922 - val_loss: 2.3873 - val_accuracy: 0.5850\n",
      "Epoch 34/50\n",
      "113/113 [==============================] - 6s 50ms/step - loss: 0.0254 - accuracy: 0.9967 - val_loss: 2.3626 - val_accuracy: 0.5800\n",
      "Epoch 35/50\n",
      "113/113 [==============================] - 6s 50ms/step - loss: 0.0364 - accuracy: 0.9911 - val_loss: 2.1595 - val_accuracy: 0.5950\n",
      "Epoch 36/50\n",
      "113/113 [==============================] - 6s 50ms/step - loss: 0.0265 - accuracy: 0.9939 - val_loss: 2.4292 - val_accuracy: 0.6100\n",
      "Epoch 37/50\n",
      "113/113 [==============================] - 6s 50ms/step - loss: 0.0242 - accuracy: 0.9939 - val_loss: 2.7132 - val_accuracy: 0.6000\n",
      "Epoch 38/50\n",
      "113/113 [==============================] - 6s 50ms/step - loss: 0.0205 - accuracy: 0.9950 - val_loss: 3.0450 - val_accuracy: 0.6050\n",
      "Epoch 39/50\n",
      "113/113 [==============================] - 6s 50ms/step - loss: 0.0280 - accuracy: 0.9928 - val_loss: 2.8863 - val_accuracy: 0.5800\n",
      "Epoch 40/50\n",
      "113/113 [==============================] - 6s 50ms/step - loss: 0.0231 - accuracy: 0.9944 - val_loss: 2.4695 - val_accuracy: 0.5850\n",
      "Epoch 41/50\n",
      "113/113 [==============================] - 6s 50ms/step - loss: 0.0253 - accuracy: 0.9928 - val_loss: 2.5517 - val_accuracy: 0.5950\n",
      "Epoch 42/50\n",
      "113/113 [==============================] - 6s 50ms/step - loss: 0.0231 - accuracy: 0.9939 - val_loss: 2.9683 - val_accuracy: 0.5950\n",
      "Epoch 43/50\n",
      "113/113 [==============================] - 6s 50ms/step - loss: 0.0280 - accuracy: 0.9917 - val_loss: 2.4736 - val_accuracy: 0.5950\n",
      "Epoch 44/50\n",
      "113/113 [==============================] - 6s 50ms/step - loss: 0.0186 - accuracy: 0.9956 - val_loss: 2.6724 - val_accuracy: 0.5900\n",
      "Epoch 45/50\n",
      "113/113 [==============================] - 6s 50ms/step - loss: 0.0143 - accuracy: 0.9972 - val_loss: 2.5861 - val_accuracy: 0.6100\n",
      "Epoch 46/50\n",
      "113/113 [==============================] - 6s 50ms/step - loss: 0.0218 - accuracy: 0.9933 - val_loss: 2.8813 - val_accuracy: 0.5900\n",
      "Epoch 47/50\n",
      "113/113 [==============================] - 6s 50ms/step - loss: 0.0209 - accuracy: 0.9939 - val_loss: 3.0921 - val_accuracy: 0.5950\n",
      "Epoch 48/50\n",
      "113/113 [==============================] - 6s 50ms/step - loss: 0.0155 - accuracy: 0.9967 - val_loss: 2.2914 - val_accuracy: 0.6050\n",
      "Epoch 49/50\n",
      "113/113 [==============================] - 6s 50ms/step - loss: 0.0139 - accuracy: 0.9978 - val_loss: 2.3954 - val_accuracy: 0.6100\n",
      "Epoch 50/50\n",
      "113/113 [==============================] - 6s 49ms/step - loss: 0.0181 - accuracy: 0.9950 - val_loss: 2.4226 - val_accuracy: 0.6100\n"
     ]
    }
   ],
   "source": [
    "#with tf.device('/cpu:0'):\n",
    "trained = model.fit(x_train, y_train, batch_size=16, epochs=epochs, validation_split = 0.1, shuffle = True)"
   ]
  },
  {
   "cell_type": "code",
   "execution_count": null,
   "metadata": {},
   "outputs": [],
   "source": [
    "plt.plot(trained.history['loss'], label=\"loss\")\n",
    "plt.plot(trained.history['val_loss'], label=\"validation loss\")\n",
    "plt.xlabel(\"epochs\")\n",
    "plt.ylabel(\"loss\")\n",
    "plt.legend()"
   ]
  },
  {
   "cell_type": "code",
   "execution_count": 57,
   "metadata": {},
   "outputs": [
    {
     "data": {
      "text/plain": [
       "[<matplotlib.lines.Line2D at 0x15d9853e040>]"
      ]
     },
     "execution_count": 57,
     "metadata": {},
     "output_type": "execute_result"
    },
    {
     "data": {
      "image/png": "[encoded data removed]",
      "text/plain": [
       "<Figure size 432x288 with 1 Axes>"
      ]
     },
     "metadata": {
      "needs_background": "light"
     },
     "output_type": "display_data"
    }
   ],
   "source": [
    "plt.plot(trained.history['accuracy'])\n",
    "plt.plot(trained.history['val_accuracy'])\n"
   ]
  },
  {
   "cell_type": "code",
   "execution_count": 58,
   "metadata": {},
   "outputs": [
    {
     "name": "stdout",
     "output_type": "stream",
     "text": [
      "(200, 224, 224, 3)\n",
      "(200, 5)\n",
      "7/7 [==============================] - 0s 28ms/step - loss: 2.1712 - accuracy: 0.6600\n",
      "[2.1712419986724854, 0.6600000262260437]\n",
      "DONE\n"
     ]
    }
   ],
   "source": [
    "#with tf.device('/cpu:0'):\n",
    "x_test = np.load(f\"{base_path}x_test.npy\")\n",
    "y_test = np.load(f\"{base_path}y_test.npy\")\n",
    "print(x_test.shape)\n",
    "print(y_test.shape)\n",
    "print(model.evaluate(x=x_test, y=y_test))\n",
    "print(\"DONE\")"
   ]
  },
  {
   "cell_type": "code",
   "execution_count": 9,
   "metadata": {},
   "outputs": [
    {
     "name": "stdout",
     "output_type": "stream",
     "text": [
      "Confusion matrix : \n",
      " [[[193   2]\n",
      "  [  5   0]]\n",
      "\n",
      " [[161  18]\n",
      "  [ 11  10]]\n",
      "\n",
      " [[177   3]\n",
      "  [ 19   1]]\n",
      "\n",
      " [[ 31  36]\n",
      "  [ 10 123]]\n",
      "\n",
      " [[177   2]\n",
      "  [ 21   0]]]\n"
     ]
    }
   ],
   "source": [
    "from sklearn.metrics import multilabel_confusion_matrix\n",
    "from sklearn.metrics import classification_report\n",
    "\n",
    "#with tf.device('/cpu:0'):\n",
    "y_hat = model.predict(x_test)\n",
    "# confusion matrix\n",
    "matrix = multilabel_confusion_matrix(y_test,  y_hat.round())\n",
    "print('Confusion matrix : \\n',matrix)\n",
    "    #print(y_test)\n",
    "\n"
   ]
  },
  {
   "cell_type": "code",
   "execution_count": 14,
   "metadata": {},
   "outputs": [
    {
     "name": "stdout",
     "output_type": "stream",
     "text": [
      "FREED\n"
     ]
    }
   ],
   "source": [
    "from numba import cuda\n",
    "cuda.select_device(0)\n",
    "cuda.close()\n",
    "print(\"FREED\")"
   ]
  },
  {
   "cell_type": "code",
   "execution_count": null,
   "metadata": {},
   "outputs": [],
   "source": []
  }
 ],
 "metadata": {
  "kernelspec": {
   "display_name": "Python 3",
   "language": "python",
   "name": "python3"
  },
  "language_info": {
   "codemirror_mode": {
    "name": "ipython",
    "version": 3
   },
   "file_extension": ".py",
   "mimetype": "text/x-python",
   "name": "python",
   "nbconvert_exporter": "python",
   "pygments_lexer": "ipython3",
   "version": "3.8.5"
  }
 },
 "nbformat": 4,
 "nbformat_minor": 4
}
