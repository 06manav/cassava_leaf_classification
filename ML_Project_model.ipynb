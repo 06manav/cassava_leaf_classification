{
 "cells": [
  {
   "cell_type": "code",
   "execution_count": 4,
   "metadata": {},
   "outputs": [
    {
     "name": "stdout",
     "output_type": "stream",
     "text": [
      "Imported\n"
     ]
    }
   ],
   "source": [
    "from keras.models import Sequential\n",
    "from keras.layers import Dense, Dropout, Conv2D, MaxPool2D, Flatten, Activation\n",
    "from keras.utils import np_utils\n",
    "from keras.optimizers import SGD\n",
    "import numpy as np\n",
    "print(\"Imported\")\n",
    "base_path = \"C:\\\\Users\\\\91991\\\\Documents\\\\ml_project\\\\\""
   ]
  },
  {
   "cell_type": "code",
   "execution_count": 6,
   "metadata": {},
   "outputs": [
    {
     "name": "stdout",
     "output_type": "stream",
     "text": [
      "Model: \"sequential_3\"\n",
      "_________________________________________________________________\n",
      "Layer (type)                 Output Shape              Param #   \n",
      "=================================================================\n",
      "conv2d_6 (Conv2D)            (None, 598, 798, 16)      448       \n",
      "_________________________________________________________________\n",
      "activation_3 (Activation)    (None, 598, 798, 16)      0         \n",
      "_________________________________________________________________\n",
      "max_pooling2d_4 (MaxPooling2 (None, 299, 399, 16)      0         \n",
      "_________________________________________________________________\n",
      "conv2d_7 (Conv2D)            (None, 297, 397, 32)      4640      \n",
      "_________________________________________________________________\n",
      "activation_4 (Activation)    (None, 297, 397, 32)      0         \n",
      "_________________________________________________________________\n",
      "max_pooling2d_5 (MaxPooling2 (None, 148, 198, 32)      0         \n",
      "_________________________________________________________________\n",
      "conv2d_8 (Conv2D)            (None, 146, 196, 64)      18496     \n",
      "_________________________________________________________________\n",
      "activation_5 (Activation)    (None, 146, 196, 64)      0         \n",
      "_________________________________________________________________\n",
      "max_pooling2d_6 (MaxPooling2 (None, 73, 98, 64)        0         \n",
      "_________________________________________________________________\n",
      "conv2d_9 (Conv2D)            (None, 71, 96, 128)       73856     \n",
      "_________________________________________________________________\n",
      "max_pooling2d_7 (MaxPooling2 (None, 35, 48, 128)       0         \n",
      "_________________________________________________________________\n",
      "dropout_3 (Dropout)          (None, 35, 48, 128)       0         \n",
      "_________________________________________________________________\n",
      "flatten_1 (Flatten)          (None, 215040)            0         \n",
      "_________________________________________________________________\n",
      "dense_3 (Dense)              (None, 50)                10752050  \n",
      "_________________________________________________________________\n",
      "dropout_4 (Dropout)          (None, 50)                0         \n",
      "_________________________________________________________________\n",
      "dense_4 (Dense)              (None, 25)                1275      \n",
      "_________________________________________________________________\n",
      "dropout_5 (Dropout)          (None, 25)                0         \n",
      "_________________________________________________________________\n",
      "dense_5 (Dense)              (None, 5)                 130       \n",
      "=================================================================\n",
      "Total params: 10,850,895\n",
      "Trainable params: 10,850,895\n",
      "Non-trainable params: 0\n",
      "_________________________________________________________________\n"
     ]
    }
   ],
   "source": [
    "# Model\n",
    "model = Sequential()\n",
    "model.add(Conv2D(filters=16, kernel_size=(3, 3), input_shape=(600, 800, 3)))\n",
    "model.add(Activation('relu'))\n",
    "model.add(MaxPool2D(pool_size=(2, 2)))\n",
    "\n",
    "model.add(Conv2D(filters=32, kernel_size=(3, 3), input_shape=(600, 800, 3)))\n",
    "model.add(Activation('relu'))\n",
    "model.add(MaxPool2D(pool_size=(2, 2)))\n",
    "\n",
    "model.add(Conv2D(filters=64, kernel_size=(3, 3), input_shape=(600, 800, 3)))\n",
    "model.add(Activation('relu'))\n",
    "model.add(MaxPool2D(pool_size=(2, 2)))\n",
    "\n",
    "model.add(Conv2D(filters=128, kernel_size=(3, 3), input_shape=(600, 800, 3)))\n",
    "model.add(MaxPool2D(pool_size=(2, 2)))\n",
    "model.add(Dropout(0.4))\n",
    "\n",
    "model.add(Flatten())\n",
    "\n",
    "model.add(Dense(50, activation='relu'))\n",
    "model.add(Dropout(0.5))\n",
    "\n",
    "model.add(Dense(25, activation='relu'))\n",
    "model.add(Dropout(0.5))\n",
    "\n",
    "model.add(Dense(5, activation='softmax'))\n",
    "\n",
    "epochs = 10\n",
    "learning_rate = 0.1\n",
    "decay_rate = learning_rate / epochs\n",
    "momentum = 0.8\n",
    "sgd = SGD(lr=learning_rate, momentum=momentum, decay=decay_rate, nesterov=False)\n",
    "model.compile(loss='categorical_crossentropy', optimizer='adam', metrics=['accuracy'])\n",
    "model.summary()"
   ]
  },
  {
   "cell_type": "code",
   "execution_count": 7,
   "metadata": {},
   "outputs": [
    {
     "name": "stdout",
     "output_type": "stream",
     "text": [
      "LOADED\n"
     ]
    }
   ],
   "source": [
    "#data\n",
    "#x_train = np.load(f\"{base_path}x_train.npy\")\n",
    "#y_train = np.load(f\"{base_path}y_train.npy\")\n",
    "x_test = np.load(f\"{base_path}x_train.npy\")\n",
    "y_test = np.load(f\"{base_path}y_train.npy\")\n",
    "print(\"LOADED\")"
   ]
  },
  {
   "cell_type": "code",
   "execution_count": 8,
   "metadata": {},
   "outputs": [
    {
     "name": "stdout",
     "output_type": "stream",
     "text": [
      "Epoch 1/10\n",
      "25/25 [==============================] - 246s 8s/step - loss: 2.4183 - accuracy: 0.2971 - val_loss: 1.2224 - val_accuracy: 0.6750\n",
      "Epoch 2/10\n",
      "25/25 [==============================] - 211s 8s/step - loss: 1.4121 - accuracy: 0.4887 - val_loss: 1.1386 - val_accuracy: 0.6750\n",
      "Epoch 3/10\n",
      "25/25 [==============================] - 211s 8s/step - loss: 1.3610 - accuracy: 0.5254 - val_loss: 1.2365 - val_accuracy: 0.6750\n",
      "Epoch 4/10\n",
      "25/25 [==============================] - 205s 8s/step - loss: 1.3484 - accuracy: 0.5487 - val_loss: 1.0590 - val_accuracy: 0.6750\n",
      "Epoch 5/10\n",
      "25/25 [==============================] - 212s 8s/step - loss: 1.2976 - accuracy: 0.5531 - val_loss: 1.1975 - val_accuracy: 0.6750\n",
      "Epoch 6/10\n",
      "25/25 [==============================] - 229s 9s/step - loss: 1.2616 - accuracy: 0.5878 - val_loss: 1.1119 - val_accuracy: 0.6750\n",
      "Epoch 7/10\n",
      "25/25 [==============================] - 238s 9s/step - loss: 1.2501 - accuracy: 0.6170 - val_loss: 0.9745 - val_accuracy: 0.6800\n",
      "Epoch 8/10\n",
      "25/25 [==============================] - 210s 8s/step - loss: 1.2715 - accuracy: 0.5749 - val_loss: 1.1496 - val_accuracy: 0.6800\n",
      "Epoch 9/10\n",
      "25/25 [==============================] - 207s 8s/step - loss: 1.2123 - accuracy: 0.6129 - val_loss: 0.9824 - val_accuracy: 0.6800\n",
      "Epoch 10/10\n",
      "25/25 [==============================] - 206s 8s/step - loss: 1.1158 - accuracy: 0.6216 - val_loss: 1.0824 - val_accuracy: 0.6750\n"
     ]
    },
    {
     "data": {
      "text/plain": [
       "<tensorflow.python.keras.callbacks.History at 0x1e85b999eb0>"
      ]
     },
     "execution_count": 8,
     "metadata": {},
     "output_type": "execute_result"
    }
   ],
   "source": [
    "model.fit(x_test, y_test, batch_size=32, epochs=epochs, validation_split = 0.2)"
   ]
  },
  {
   "cell_type": "code",
   "execution_count": null,
   "metadata": {},
   "outputs": [],
   "source": []
  }
 ],
 "metadata": {
  "kernelspec": {
   "display_name": "Python 3",
   "language": "python",
   "name": "python3"
  },
  "language_info": {
   "codemirror_mode": {
    "name": "ipython",
    "version": 3
   },
   "file_extension": ".py",
   "mimetype": "text/x-python",
   "name": "python",
   "nbconvert_exporter": "python",
   "pygments_lexer": "ipython3",
   "version": "3.8.5"
  }
 },
 "nbformat": 4,
 "nbformat_minor": 4
}
