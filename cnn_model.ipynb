{
 "cells": [
  {
   "cell_type": "code",
   "execution_count": 31,
   "metadata": {},
   "outputs": [],
   "source": [
    "import env\n",
    "import numpy as np\n",
    "from sklearn.model_selection import train_test_split \n",
    "from keras.models import Sequential\n",
    "from keras.layers import Dense, Dropout, Conv2D, MaxPool2D, Flatten, Activation\n",
    "from keras.utils import np_utils\n",
    "from keras.optimizers import SGD"
   ]
  },
  {
   "cell_type": "code",
   "execution_count": 41,
   "metadata": {},
   "outputs": [
    {
     "output_type": "stream",
     "name": "stdout",
     "text": [
      "Model: \"sequential_6\"\n_________________________________________________________________\nLayer (type)                 Output Shape              Param #   \n=================================================================\nconv2d_24 (Conv2D)           (None, 222, 222, 16)      448       \n_________________________________________________________________\nactivation_18 (Activation)   (None, 222, 222, 16)      0         \n_________________________________________________________________\nmax_pooling2d_24 (MaxPooling (None, 111, 111, 16)      0         \n_________________________________________________________________\nconv2d_25 (Conv2D)           (None, 109, 109, 32)      4640      \n_________________________________________________________________\nactivation_19 (Activation)   (None, 109, 109, 32)      0         \n_________________________________________________________________\nmax_pooling2d_25 (MaxPooling (None, 54, 54, 32)        0         \n_________________________________________________________________\nconv2d_26 (Conv2D)           (None, 52, 52, 64)        18496     \n_________________________________________________________________\nactivation_20 (Activation)   (None, 52, 52, 64)        0         \n_________________________________________________________________\nmax_pooling2d_26 (MaxPooling (None, 26, 26, 64)        0         \n_________________________________________________________________\nconv2d_27 (Conv2D)           (None, 24, 24, 128)       73856     \n_________________________________________________________________\nmax_pooling2d_27 (MaxPooling (None, 12, 12, 128)       0         \n_________________________________________________________________\ndropout_18 (Dropout)         (None, 12, 12, 128)       0         \n_________________________________________________________________\nflatten_6 (Flatten)          (None, 18432)             0         \n_________________________________________________________________\ndense_18 (Dense)             (None, 50)                921650    \n_________________________________________________________________\ndropout_19 (Dropout)         (None, 50)                0         \n_________________________________________________________________\ndense_19 (Dense)             (None, 25)                1275      \n_________________________________________________________________\ndropout_20 (Dropout)         (None, 25)                0         \n_________________________________________________________________\ndense_20 (Dense)             (None, 5)                 130       \n=================================================================\nTotal params: 1,020,495\nTrainable params: 1,020,495\nNon-trainable params: 0\n_________________________________________________________________\n"
     ]
    }
   ],
   "source": [
    "# Model\n",
    "model = Sequential()\n",
    "model.add(Conv2D(filters=16, kernel_size=(3, 3), input_shape=(224, 224, 3)))\n",
    "model.add(Activation('relu'))\n",
    "model.add(MaxPool2D(pool_size=(2, 2)))\n",
    "\n",
    "model.add(Conv2D(filters=32, kernel_size=(3, 3), input_shape=(224, 224, 3)))\n",
    "model.add(Activation('relu'))\n",
    "model.add(MaxPool2D(pool_size=(2, 2)))\n",
    "\n",
    "model.add(Conv2D(filters=64, kernel_size=(3, 3), input_shape=(224, 224, 3)))\n",
    "model.add(Activation('relu'))\n",
    "model.add(MaxPool2D(pool_size=(2, 2)))\n",
    "\n",
    "model.add(Conv2D(filters=128, kernel_size=(3, 3), input_shape=(224, 224, 3)))\n",
    "model.add(MaxPool2D(pool_size=(2, 2)))\n",
    "model.add(Dropout(0.4))\n",
    "\n",
    "model.add(Flatten())\n",
    "\n",
    "model.add(Dense(50, activation='relu'))\n",
    "model.add(Dropout(0.5))\n",
    "\n",
    "model.add(Dense(25, activation='relu'))\n",
    "model.add(Dropout(0.5))\n",
    "\n",
    "model.add(Dense(5, activation='softmax'))\n",
    "\n",
    "epochs = 10\n",
    "learning_rate = 0.1\n",
    "decay_rate = learning_rate / epochs\n",
    "momentum = 0.8\n",
    "sgd = SGD(lr=learning_rate, momentum=momentum, decay=decay_rate, nesterov=False)\n",
    "model.compile(loss='categorical_crossentropy', optimizer='adam', metrics=['accuracy'])\n",
    "model.summary()"
   ]
  },
  {
   "cell_type": "code",
   "execution_count": 35,
   "metadata": {},
   "outputs": [],
   "source": [
    "#load data and split in test and training set\n",
    "X = np.load(env.FEATURES_PATH)\n",
    "Y = np.load(env.LABELS_PATH)\n",
    "# X_train,X_test,Y_train,Y_test = train_test_split(X,Y,test_size=0.3)"
   ]
  },
  {
   "cell_type": "code",
   "execution_count": 42,
   "metadata": {},
   "outputs": [
    {
     "output_type": "stream",
     "name": "stdout",
     "text": [
      "Epoch 1/10\n",
      "25/25 [==============================] - 12s 467ms/step - loss: 1.6243 - accuracy: 0.3541 - val_loss: 1.0835 - val_accuracy: 0.6750\n",
      "Epoch 2/10\n",
      "25/25 [==============================] - 11s 457ms/step - loss: 1.3941 - accuracy: 0.5621 - val_loss: 1.1505 - val_accuracy: 0.6750\n",
      "Epoch 3/10\n",
      "25/25 [==============================] - 11s 460ms/step - loss: 1.3320 - accuracy: 0.5863 - val_loss: 1.1155 - val_accuracy: 0.6750\n",
      "Epoch 4/10\n",
      "25/25 [==============================] - 12s 474ms/step - loss: 1.3164 - accuracy: 0.5896 - val_loss: 1.0650 - val_accuracy: 0.6750\n",
      "Epoch 5/10\n",
      "25/25 [==============================] - 12s 469ms/step - loss: 1.2661 - accuracy: 0.5813 - val_loss: 1.0023 - val_accuracy: 0.6750\n",
      "Epoch 6/10\n",
      "25/25 [==============================] - 12s 469ms/step - loss: 1.2333 - accuracy: 0.6155 - val_loss: 1.1385 - val_accuracy: 0.6750\n",
      "Epoch 7/10\n",
      "25/25 [==============================] - 12s 469ms/step - loss: 1.2884 - accuracy: 0.5891 - val_loss: 1.0011 - val_accuracy: 0.6750\n",
      "Epoch 8/10\n",
      "25/25 [==============================] - 12s 470ms/step - loss: 1.1355 - accuracy: 0.6335 - val_loss: 1.0933 - val_accuracy: 0.6750\n",
      "Epoch 9/10\n",
      "25/25 [==============================] - 12s 469ms/step - loss: 1.2539 - accuracy: 0.5964 - val_loss: 0.9769 - val_accuracy: 0.6750\n",
      "Epoch 10/10\n",
      "25/25 [==============================] - 12s 471ms/step - loss: 1.2262 - accuracy: 0.5914 - val_loss: 1.0101 - val_accuracy: 0.6750\n"
     ]
    }
   ],
   "source": [
    "loss = model.fit(X, Y, batch_size=32, epochs=epochs, validation_split = 0.2)"
   ]
  },
  {
   "cell_type": "code",
   "execution_count": null,
   "metadata": {},
   "outputs": [],
   "source": []
  }
 ],
 "metadata": {
  "kernelspec": {
   "display_name": "Python 3",
   "language": "python",
   "name": "python3"
  },
  "language_info": {
   "codemirror_mode": {
    "name": "ipython",
    "version": 3
   },
   "file_extension": ".py",
   "mimetype": "text/x-python",
   "name": "python",
   "nbconvert_exporter": "python",
   "pygments_lexer": "ipython3",
   "version": "3.7.0"
  }
 },
 "nbformat": 4,
 "nbformat_minor": 2
}